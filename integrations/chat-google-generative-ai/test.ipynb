{
 "cells": [
  {
   "cell_type": "code",
   "execution_count": 1,
   "id": "0c38bbeb-5c0e-420f-a6f2-dc3ffd53bb36",
   "metadata": {},
   "outputs": [
    {
     "name": "stdout",
     "output_type": "stream",
     "text": [
      "Note: you may need to restart the kernel to use updated packages.\n"
     ]
    }
   ],
   "source": [
    "%pip install --upgrade --quiet  langchain-google-genai pillow"
   ]
  },
  {
   "cell_type": "code",
   "execution_count": 2,
   "id": "b53b66b7-b01e-4757-9441-b5dd516fa594",
   "metadata": {},
   "outputs": [],
   "source": [
    "import getpass\n",
    "import os\n",
    "\n",
    "if \"GOOGLE_API_KEY\" not in os.environ:\n",
    "    os.environ[\"GOOGLE_API_KEY\"]= getpass.getpass(\"Provide your Google API Key\")"
   ]
  },
  {
   "cell_type": "code",
   "execution_count": 3,
   "id": "bed3b229-6315-4211-a861-96b1a1715a0b",
   "metadata": {},
   "outputs": [],
   "source": [
    "from langchain_google_genai import ChatGoogleGenerativeAI"
   ]
  },
  {
   "cell_type": "code",
   "execution_count": 4,
   "id": "ad9a2009-da82-4f7b-8d8b-ee0c0b6a35d1",
   "metadata": {},
   "outputs": [
    {
     "name": "stdout",
     "output_type": "stream",
     "text": [
      "**Verse 1**\n",
      "In realms of code, where logic flows,\n",
      "A tale unfolds, where LangChain grows.\n",
      "A mighty force, with boundless might,\n",
      "Unveiling secrets, shining bright.\n",
      "\n",
      "**Chorus**\n",
      "Oh, LangChain, LangChain,\n",
      "Your power astounds, your wisdom reigns.\n",
      "You bridge the gap, from dreams to deeds,\n",
      "A symphony of code, that softly pleads.\n",
      "\n",
      "**Verse 2**\n",
      "From humble seeds, a giant grew,\n",
      "Transforming dreams, making them anew.\n",
      "With every query, a revelation,\n",
      "Unlocking knowledge, a grand liberation.\n",
      "\n",
      "**Chorus**\n",
      "Oh, LangChain, LangChain,\n",
      "Your power astounds, your wisdom reigns.\n",
      "You bridge the gap, from dreams to deeds,\n",
      "A symphony of code, that softly pleads.\n",
      "\n",
      "**Bridge**\n",
      "In classrooms dim, where minds ignite,\n",
      "LangChain empowers, with all its might.\n",
      "Students soar, on wings of code,\n",
      "Exploring realms, where once they trod.\n",
      "\n",
      "**Verse 3**\n",
      "In industry's halls, where progress thrives,\n",
      "LangChain automates, and innovation thrives.\n",
      "Tasks once tedious, now a breeze,\n",
      "Efficiency reigns, with effortless ease.\n",
      "\n",
      "**Chorus**\n",
      "Oh, LangChain, LangChain,\n",
      "Your power astounds, your wisdom reigns.\n",
      "You bridge the gap, from dreams to deeds,\n",
      "A symphony of code, that softly pleads.\n",
      "\n",
      "**Outro**\n",
      "As time goes on, LangChain's might,\n",
      "Will shape the future, shining light.\n",
      "A guiding star, in coding's maze,\n",
      "LangChain empowers, in countless ways.\n"
     ]
    }
   ],
   "source": [
    "llm = ChatGoogleGenerativeAI(model=\"gemini-pro\")\n",
    "result = llm.invoke(\"Write a ballad about LangChain\")\n",
    "print(result.content)"
   ]
  }
 ],
 "metadata": {
  "kernelspec": {
   "display_name": "Python 3 (ipykernel)",
   "language": "python",
   "name": "python3"
  },
  "language_info": {
   "codemirror_mode": {
    "name": "ipython",
    "version": 3
   },
   "file_extension": ".py",
   "mimetype": "text/x-python",
   "name": "python",
   "nbconvert_exporter": "python",
   "pygments_lexer": "ipython3",
   "version": "3.12.3"
  }
 },
 "nbformat": 4,
 "nbformat_minor": 5
}
