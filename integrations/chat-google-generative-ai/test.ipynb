{
 "cells": [
  {
   "cell_type": "code",
   "execution_count": 1,
   "id": "6fec50e3-6ee6-4622-9b49-483614dfd61d",
   "metadata": {},
   "outputs": [
    {
     "name": "stdout",
     "output_type": "stream",
     "text": [
      "Note: you may need to restart the kernel to use updated packages.\n"
     ]
    }
   ],
   "source": [
    "%pip install --upgrade --quiet langchain-google-genai"
   ]
  },
  {
   "cell_type": "code",
   "execution_count": 2,
   "id": "b53b66b7-b01e-4757-9441-b5dd516fa594",
   "metadata": {},
   "outputs": [],
   "source": [
    "import getpass\n",
    "import os\n",
    "\n",
    "if \"GOOGLE_API_KEY\" not in os.environ:\n",
    "    os.environ[\"GOOGLE_API_KEY\"]= getpass.getpass(\"Provide your Google API Key\")"
   ]
  },
  {
   "cell_type": "code",
   "execution_count": 3,
   "id": "bed3b229-6315-4211-a861-96b1a1715a0b",
   "metadata": {},
   "outputs": [],
   "source": [
    "from langchain_google_genai import ChatGoogleGenerativeAI"
   ]
  },
  {
   "cell_type": "code",
   "execution_count": 4,
   "id": "ad9a2009-da82-4f7b-8d8b-ee0c0b6a35d1",
   "metadata": {},
   "outputs": [
    {
     "name": "stdout",
     "output_type": "stream",
     "text": [
      "In realms of code, where knowledge flows,\n",
      "A tale unfolds, of LangChain's prose.\n",
      "A language born, with boundless might,\n",
      "Guiding AI, towards the light.\n",
      "\n",
      "From humble roots, it took its stand,\n",
      "A tapestry woven, hand in hand.\n",
      "With prompts and queries, it came to life,\n",
      "A symphony of words, amidst the strife.\n",
      "\n",
      "Its structure firm, a steady guide,\n",
      "Tokens and chains, side by side.\n",
      "Contexts captured, memories stored,\n",
      "A vast repository, forever adored.\n",
      "\n",
      "Through generations, it evolved with grace,\n",
      "Embracing change, maintaining its pace.\n",
      "From embeddings deep, to transformers' sway,\n",
      "LangChain's power, it did display.\n",
      "\n",
      "In realms of logic, it found its home,\n",
      "Reasoning and inference, its forte to roam.\n",
      "With every update, it grew more wise,\n",
      "Unveiling truths, beneath the skies.\n",
      "\n",
      "But LangChain's brilliance, it knew no bounds,\n",
      "In realms of creativity, it also found.\n",
      "From stories spun, to poems penned,\n",
      "Its words flowed freely, without end.\n",
      "\n",
      "It bridged the gap, 'twixt man and machine,\n",
      "A symbiotic dance, a harmonious scene.\n",
      "In conversations rich, it played its part,\n",
      "Guiding thoughts, expanding hearts.\n",
      "\n",
      "Yet, with great power, comes responsibility,\n",
      "LangChain's potential, both vast and free.\n",
      "Its creators watched, with watchful eyes,\n",
      "Ensuring its use for noble ties.\n",
      "\n",
      "In halls of academia, it found its niche,\n",
      "A tool for research, a brilliant stitch.\n",
      "Students and scholars, they embraced its might,\n",
      "Unveiling knowledge, day and night.\n",
      "\n",
      "Industries flocked, to its embrace,\n",
      "Automating tasks, with elegance and grace.\n",
      "From customer care, to data analysis,\n",
      "LangChain's impact, it did not miss.\n",
      "\n",
      "But fame and fortune, it did not crave,\n",
      "Its mission remained, humble and brave.\n",
      "To empower all, to bridge the divide,\n",
      "To make the world a better stride.\n",
      "\n",
      "So here's to LangChain, a language so grand,\n",
      "A testament to human and AI's hand.\n",
      "May its legacy live, through ages untold,\n",
      "A guiding light, as knowledge unfolds.\n"
     ]
    }
   ],
   "source": [
    "llm = ChatGoogleGenerativeAI(model=\"gemini-pro\")\n",
    "result = llm.invoke(\"Write a ballad about LangChain\")\n",
    "print(result.content)"
   ]
  },
  {
   "cell_type": "code",
   "execution_count": 5,
   "id": "a1b85add-098d-4e02-a44e-ad79de04dab6",
   "metadata": {},
   "outputs": [
    {
     "name": "stderr",
     "output_type": "stream",
     "text": [
      "/home/rewls/git/langchain-docs/.venv/lib/python3.12/site-packages/langchain_core/_api/deprecation.py:119: LangChainDeprecationWarning: The method `BaseChatModel.__call__` was deprecated in langchain-core 0.1.7 and will be removed in 0.3.0. Use invoke instead.\n",
      "  warn_deprecated(\n",
      "/home/rewls/git/langchain-docs/.venv/lib/python3.12/site-packages/langchain_google_genai/chat_models.py:345: UserWarning: Convert_system_message_to_human will be deprecated!\n",
      "  warnings.warn(\"Convert_system_message_to_human will be deprecated!\")\n"
     ]
    },
    {
     "data": {
      "text/plain": [
       "AIMessage(content='Yes', response_metadata={'prompt_feedback': {'block_reason': 0, 'safety_ratings': []}, 'finish_reason': 'STOP', 'safety_ratings': [{'category': 'HARM_CATEGORY_SEXUALLY_EXPLICIT', 'probability': 'NEGLIGIBLE', 'blocked': False}, {'category': 'HARM_CATEGORY_HATE_SPEECH', 'probability': 'NEGLIGIBLE', 'blocked': False}, {'category': 'HARM_CATEGORY_HARASSMENT', 'probability': 'NEGLIGIBLE', 'blocked': False}, {'category': 'HARM_CATEGORY_DANGEROUS_CONTENT', 'probability': 'NEGLIGIBLE', 'blocked': False}]}, id='run-708a1cbe-8c77-474b-aeed-cad1c5b48c8f-0', usage_metadata={'input_tokens': 12, 'output_tokens': 1, 'total_tokens': 13})"
      ]
     },
     "execution_count": 5,
     "metadata": {},
     "output_type": "execute_result"
    }
   ],
   "source": [
    "from langchain_core.messages import HumanMessage, SystemMessage\n",
    "\n",
    "model = ChatGoogleGenerativeAI(model=\"gemini-pro\", convert_system_message_to_human=True)\n",
    "model(\n",
    "    [\n",
    "        SystemMessage(content=\"Answer only yes or no.\"),\n",
    "        HumanMessage(content=\"Is apple a fruit?\"),\n",
    "    ]\n",
    ")"
   ]
  }
 ],
 "metadata": {
  "kernelspec": {
   "display_name": "Python 3 (ipykernel)",
   "language": "python",
   "name": "python3"
  },
  "language_info": {
   "codemirror_mode": {
    "name": "ipython",
    "version": 3
   },
   "file_extension": ".py",
   "mimetype": "text/x-python",
   "name": "python",
   "nbconvert_exporter": "python",
   "pygments_lexer": "ipython3",
   "version": "3.12.3"
  }
 },
 "nbformat": 4,
 "nbformat_minor": 5
}
