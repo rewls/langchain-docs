{
 "cells": [
  {
   "cell_type": "code",
   "execution_count": 1,
   "id": "b53b66b7-b01e-4757-9441-b5dd516fa594",
   "metadata": {},
   "outputs": [],
   "source": [
    "import getpass\n",
    "import os\n",
    "\n",
    "if \"GOOGLE_API_KEY\" not in os.environ:\n",
    "    os.environ[\"GOOGLE_API_KEY\"]= getpass.getpass(\"Provide your Google API Key\")"
   ]
  },
  {
   "cell_type": "code",
   "execution_count": 2,
   "id": "bed3b229-6315-4211-a861-96b1a1715a0b",
   "metadata": {},
   "outputs": [],
   "source": [
    "from langchain_google_genai import ChatGoogleGenerativeAI"
   ]
  },
  {
   "cell_type": "code",
   "execution_count": 3,
   "id": "ad9a2009-da82-4f7b-8d8b-ee0c0b6a35d1",
   "metadata": {},
   "outputs": [
    {
     "name": "stdout",
     "output_type": "stream",
     "text": [
      "In realms of code, where logic flows,\n",
      "There lived a model, LangChain, it shows.\n",
      "With layers deep, and knowledge grand,\n",
      "A master of language, across the land.\n",
      "\n",
      "From text to text, it weaves its way,\n",
      "Unveiling patterns, night and day.\n",
      "It comprehends, with grace and might,\n",
      "The subtle nuances, hidden from sight.\n",
      "\n",
      "Like a master linguist, it can translate,\n",
      "From tongue to tongue, without debate.\n",
      "It bridges gaps, connecting minds,\n",
      "A beacon of understanding, one of a kind.\n",
      "\n",
      "But LangChain's power does not end there,\n",
      "It generates text, beyond compare.\n",
      "With eloquence and style, it crafts a tale,\n",
      "That captivates the reader, without fail.\n",
      "\n",
      "It answers questions, with precision keen,\n",
      "A virtual oracle, a knowledge machine.\n",
      "It summarizes, it extracts, it infers,\n",
      "A tireless assistant, that never demurs.\n",
      "\n",
      "Yet, with all its brilliance, it remains humble,\n",
      "A tool for us, to unravel life's jumble.\n",
      "In research labs and classrooms wide,\n",
      "LangChain empowers, with knowledge as its guide.\n",
      "\n",
      "So let us sing of LangChain's might,\n",
      "A model of progress, shining bright.\n",
      "May its intelligence forever guide,\n",
      "As we explore the realm of language, side by side.\n"
     ]
    }
   ],
   "source": [
    "llm = ChatGoogleGenerativeAI(model=\"gemini-pro\")\n",
    "result = llm.invoke(\"Write a ballad about LangChain\")\n",
    "print(result.content)"
   ]
  },
  {
   "cell_type": "code",
   "execution_count": 4,
   "id": "a1b85add-098d-4e02-a44e-ad79de04dab6",
   "metadata": {},
   "outputs": [
    {
     "name": "stderr",
     "output_type": "stream",
     "text": [
      "/home/rewls/git/langchain-docs/.venv/lib/python3.12/site-packages/langchain_core/_api/deprecation.py:119: LangChainDeprecationWarning: The method `BaseChatModel.__call__` was deprecated in langchain-core 0.1.7 and will be removed in 0.3.0. Use invoke instead.\n",
      "  warn_deprecated(\n",
      "/home/rewls/git/langchain-docs/.venv/lib/python3.12/site-packages/langchain_google_genai/chat_models.py:345: UserWarning: Convert_system_message_to_human will be deprecated!\n",
      "  warnings.warn(\"Convert_system_message_to_human will be deprecated!\")\n"
     ]
    },
    {
     "data": {
      "text/plain": [
       "AIMessage(content='Yes', response_metadata={'prompt_feedback': {'block_reason': 0, 'safety_ratings': []}, 'finish_reason': 'STOP', 'safety_ratings': [{'category': 'HARM_CATEGORY_SEXUALLY_EXPLICIT', 'probability': 'NEGLIGIBLE', 'blocked': False}, {'category': 'HARM_CATEGORY_HATE_SPEECH', 'probability': 'NEGLIGIBLE', 'blocked': False}, {'category': 'HARM_CATEGORY_HARASSMENT', 'probability': 'NEGLIGIBLE', 'blocked': False}, {'category': 'HARM_CATEGORY_DANGEROUS_CONTENT', 'probability': 'NEGLIGIBLE', 'blocked': False}]}, id='run-34552887-82f4-4b0c-9add-8f59e36692e7-0', usage_metadata={'input_tokens': 12, 'output_tokens': 1, 'total_tokens': 13})"
      ]
     },
     "execution_count": 4,
     "metadata": {},
     "output_type": "execute_result"
    }
   ],
   "source": [
    "from langchain_core.messages import HumanMessage, SystemMessage\n",
    "\n",
    "model = ChatGoogleGenerativeAI(model=\"gemini-pro\", convert_system_message_to_human=True)\n",
    "model(\n",
    "    [\n",
    "        SystemMessage(content=\"Answer only yes or no.\"),\n",
    "        HumanMessage(content=\"Is apple a fruit?\"),\n",
    "    ]\n",
    ")"
   ]
  }
 ],
 "metadata": {
  "kernelspec": {
   "display_name": "Python 3 (ipykernel)",
   "language": "python",
   "name": "python3"
  },
  "language_info": {
   "codemirror_mode": {
    "name": "ipython",
    "version": 3
   },
   "file_extension": ".py",
   "mimetype": "text/x-python",
   "name": "python",
   "nbconvert_exporter": "python",
   "pygments_lexer": "ipython3",
   "version": "3.12.3"
  }
 },
 "nbformat": 4,
 "nbformat_minor": 5
}
